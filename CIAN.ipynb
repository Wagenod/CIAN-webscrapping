{
 "cells": [
  {
   "cell_type": "code",
   "execution_count": 325,
   "metadata": {},
   "outputs": [],
   "source": [
    "import requests\n",
    "import re\n",
    "import pandas as pd\n",
    "import numpy as np\n",
    "import random\n",
    "import seaborn as sns\n",
    "\n",
    "from matplotlib import pyplot as plt\n",
    "from time import sleep\n",
    "from bs4 import BeautifulSoup\n",
    "from selenium import webdriver\n",
    "\n",
    "from sklearn.cluster import KMeans\n",
    "from sklearn import decomposition\n",
    "from sklearn import metrics\n",
    "from sklearn.tree import DecisionTreeRegressor\n",
    "from sklearn.linear_model import LinearRegression, Ridge\n",
    "from sklearn.ensemble import RandomForestRegressor\n",
    "from sklearn.grid_search import GridSearchCV\n",
    "from sklearn.cross_validation import train_test_split\n",
    "\n",
    "plt.rcParams['figure.figsize'] = (10,8) # размер графиков\n",
    "sns.set()\n",
    "RANDOM_STATE = 17 # зафиксировали для воспроизводимости результатов"
   ]
  },
  {
   "cell_type": "markdown",
   "metadata": {},
   "source": [
    "# 1.Парсинг"
   ]
  },
  {
   "cell_type": "code",
   "execution_count": 43,
   "metadata": {},
   "outputs": [],
   "source": [
    "page_url_pattern = \"https://www.cian.ru/cat.php?deal_type=sale&district%5B0%5D=13&district%5B1%5D=14&district%5B2%5D=15&\\\n",
    "            district%5B3%5D=16&district%5B4%5D=17&district%5B5%5D=18&district%5B6%5D=19&district%5B7%5D=20&district\\\n",
    "            %5B8%5D=21&district%5B9%5D=22&engine_version=2&offer_type=flat&p={}&room1=1\"\n",
    "NUM_PAGES = 40"
   ]
  },
  {
   "cell_type": "markdown",
   "metadata": {},
   "source": [
    "## 1.1 Сбор ссылок на страницы квартир"
   ]
  },
  {
   "cell_type": "code",
   "execution_count": 45,
   "metadata": {},
   "outputs": [],
   "source": [
    "def get_page_links(page_soup):\n",
    "    page_links = set()\n",
    "    try:\n",
    "        for html_link in page_soup.html.body.findAll('a', href=re.compile(\"https://www.cian.ru/sale/flat/\\d+\")):\n",
    "            page_links.add(html_link['href'])\n",
    "    except:\n",
    "        print(\"Ошибка при получении списка ссылок на квартиры\")\n",
    "    finally:\n",
    "        print(f\"Получено {len(page_links)} ссылок\")\n",
    "    return page_links"
   ]
  },
  {
   "cell_type": "code",
   "execution_count": 46,
   "metadata": {
    "collapsed": true
   },
   "outputs": [
    {
     "name": "stdout",
     "output_type": "stream",
     "text": [
      "Page 1 started\n",
      "Получено 28 ссылок\n",
      "Page 2 started\n",
      "Получено 28 ссылок\n",
      "Page 3 started\n",
      "Получено 28 ссылок\n",
      "Page 4 started\n",
      "Получено 28 ссылок\n",
      "Page 5 started\n",
      "Получено 28 ссылок\n",
      "Page 6 started\n",
      "Получено 28 ссылок\n",
      "Page 7 started\n",
      "Получено 28 ссылок\n",
      "Page 8 started\n",
      "Получено 28 ссылок\n",
      "Page 9 started\n",
      "Получено 28 ссылок\n",
      "Page 10 started\n",
      "Получено 28 ссылок\n",
      "Page 11 started\n",
      "Получено 28 ссылок\n",
      "Page 12 started\n",
      "Получено 28 ссылок\n",
      "Page 13 started\n",
      "Получено 28 ссылок\n",
      "Page 14 started\n",
      "Получено 28 ссылок\n",
      "Page 15 started\n",
      "Получено 28 ссылок\n",
      "Page 16 started\n",
      "Получено 28 ссылок\n",
      "Page 17 started\n",
      "Получено 28 ссылок\n",
      "Page 18 started\n",
      "Получено 28 ссылок\n",
      "Page 19 started\n",
      "Получено 28 ссылок\n",
      "Page 20 started\n",
      "Получено 28 ссылок\n",
      "Page 21 started\n",
      "Получено 28 ссылок\n",
      "Page 22 started\n",
      "Получено 28 ссылок\n",
      "Page 23 started\n",
      "Получено 28 ссылок\n",
      "Page 24 started\n",
      "Получено 28 ссылок\n",
      "Page 25 started\n",
      "Получено 28 ссылок\n",
      "Page 26 started\n",
      "Получено 28 ссылок\n",
      "Page 27 started\n",
      "Получено 28 ссылок\n",
      "Page 28 started\n",
      "Получено 28 ссылок\n",
      "Page 29 started\n",
      "Получено 28 ссылок\n",
      "Page 30 started\n",
      "Получено 28 ссылок\n",
      "Page 31 started\n",
      "Получено 28 ссылок\n",
      "Page 32 started\n",
      "Получено 28 ссылок\n",
      "Page 33 started\n",
      "Получено 28 ссылок\n",
      "Page 34 started\n",
      "Получено 28 ссылок\n",
      "Page 35 started\n",
      "Получено 28 ссылок\n",
      "Page 36 started\n",
      "Получено 28 ссылок\n",
      "Page 37 started\n",
      "Получено 28 ссылок\n",
      "Page 38 started\n",
      "Получено 28 ссылок\n",
      "Page 39 started\n",
      "Получено 27 ссылок\n",
      "Page 40 started\n",
      "Получено 28 ссылок\n"
     ]
    }
   ],
   "source": [
    "links = set()\n",
    "for page in range(1,NUM_PAGES + 1):\n",
    "    print(f\"Page {page} started\")\n",
    "    page_content = requests.get(page_url_pattern.format(page)).content\n",
    "    page_soup = BeautifulSoup(page_content,'lxml')\n",
    "    links = links.union(get_page_links(page_soup))"
   ]
  },
  {
   "cell_type": "code",
   "execution_count": 51,
   "metadata": {},
   "outputs": [],
   "source": [
    "with open('links.txt', 'w') as file:\n",
    "    for link in links:\n",
    "        file.write(link + \"\\n\")"
   ]
  },
  {
   "cell_type": "markdown",
   "metadata": {},
   "source": [
    "## 1.2 Сбор информации о квартирах\n",
    "По каждой квартире будем собирать следующую информацию:\n",
    "- **price** - цена квартиры (млн руб)\n",
    "- **total_square** - общая площадь квартиры ($м^2$)\n",
    "- **living_square** - жилая площадь ($м^2$)\n",
    "- **kitchen_square** - площадь кухни ($м^2$)\n",
    "- **underground_time** - время необходимое, чтобы добраться до метро (мин)\n",
    "- **underground_way** - 0 - на транспорте, 1 - пешком\n",
    "- **ceiling_height** - высота потолков в квартире\n",
    "- **floor_number** - номера этажа квартиры\n",
    "- **floors_count** - количество этажей в доме\n",
    "- **is_balcony** - 1 - есть балкон или лоджия, 0 - нет\n",
    "- **is_new** - 1 - новостройка, 0 - вторичное\n",
    "- **region** - округ москвы (ЦАО, ЗАО)"
   ]
  },
  {
   "cell_type": "code",
   "execution_count": 6,
   "metadata": {},
   "outputs": [],
   "source": [
    "# функция берет на вход soup-объект загруженного описания квартиры и возвращает цену на квартиру\n",
    "def price_grabber(flat_soup):\n",
    "    try:\n",
    "        price = flat_soup.find('span', attrs={'class':re.compile(\".*price_value.*\")}).text\n",
    "        return re.sub(\"\\D\",\"\",price)\n",
    "    except:\n",
    "        return np.nan"
   ]
  },
  {
   "cell_type": "code",
   "execution_count": 7,
   "metadata": {},
   "outputs": [],
   "source": [
    "#функция обрабатывает info_block и извлекает из него площади квартиры и этажность\n",
    "def square_and_floor_grabber(info_block):\n",
    "    total_square, living_square, kitchen_square, floor_number, floors_count = (np.nan,)*5\n",
    "    \n",
    "    info_block = flat_soup.find('div', attrs={'class':re.compile('.*info-block.*')})\n",
    "    if not info_block: # нет блока с общей площадью и этажами\n",
    "        return [np.nan]*5\n",
    "    \n",
    "    for child in info_block.findChildren('div', recursive=False):\n",
    "        try:\n",
    "            info_title = child.find('div', attrs={'class':re.compile(\".*info-title.*\")}).text.strip()\n",
    "            info = child.find('div', attrs={'class':re.compile(\".*info-text.*\")}).text.strip()\n",
    "            if info_title == 'Общая':\n",
    "                total_square = parse_square(info)\n",
    "            elif info_title == 'Жилая':\n",
    "                living_square = parse_square(info)\n",
    "            elif info_title == 'Кухня':\n",
    "                kitchen_square = parse_square(info)\n",
    "            elif info_title == 'Этаж':\n",
    "                floors_info = info.split(\" из \")\n",
    "                floor_number = floors_info[0]\n",
    "                floors_count = floors_info[1]\n",
    "            else:\n",
    "                pass\n",
    "        except Exception as e:\n",
    "            print(str(e))\n",
    "            return [np.nan]*5\n",
    "    return [total_square, living_square, kitchen_square, floor_number, floors_count]"
   ]
  },
  {
   "cell_type": "code",
   "execution_count": 8,
   "metadata": {},
   "outputs": [],
   "source": [
    "# Делает преобрзование 30,8 м2 -> 30.8\n",
    "def parse_square(square):\n",
    "    square = square.replace(\",\",\".\")\n",
    "    return re.findall(r\"\\d+\\.?\\d*\", square)[0]"
   ]
  },
  {
   "cell_type": "code",
   "execution_count": 9,
   "metadata": {},
   "outputs": [],
   "source": [
    "# возвращает информацию о временной удаленности от метро и способе до него добираться\n",
    "def underground_grabber(flat_soup):\n",
    "    try:\n",
    "        underground_info = flat_soup.find('span', attrs={'class':re.compile('.*--underground_time--.*')}).get_text()\n",
    "        underground_time = re.findall(r\"\\d+\", underground_info)[0]\n",
    "        if 'пешком' in underground_info:\n",
    "            underground_way = '1'\n",
    "        else:\n",
    "            underground_way = '0'\n",
    "    except Exception as e:\n",
    "        print(str(e))\n",
    "        return [np.nan]*2\n",
    "    return [underground_time, underground_way]"
   ]
  },
  {
   "cell_type": "code",
   "execution_count": 10,
   "metadata": {},
   "outputs": [],
   "source": [
    "#возвращает информацию о типе жилья, высоте потолков и наличии балкона\n",
    "def general_info_grabber(flat_soup):\n",
    "    is_new, ceiling_height, is_balcony = (np.nan,)*3\n",
    "    \n",
    "    general_info_block = flat_soup.find('ul', attrs={'class':re.compile('.*--list--.*')})\n",
    "    if not general_info_block: # Не нашли блока с общей информацией\n",
    "        return [np.nan]*3\n",
    "    \n",
    "    for info_item in general_info_block.findChildren('li', recursive=False):\n",
    "        try:\n",
    "            info_type = info_item.find('span', attrs={'class':re.compile(\".*name.*\")}).text.strip().lower() # Тип жилья\n",
    "            info_value = info_item.find('span', attrs={'class':re.compile(\".value.*\")}).text.strip().lower()# Новостройка\n",
    "            if info_type == 'тип жилья':\n",
    "                if 'новостройка' in info_value:\n",
    "                    is_new = '1'\n",
    "                else:\n",
    "                    is_new = '0'\n",
    "            elif info_type == 'высота потолков':\n",
    "                info_value = info_value.replace(\",\",\".\")\n",
    "                ceiling_height = re.findall(r\"\\d+\\.?\\d*\", info_value)[0]\n",
    "            elif 'балкон' in info_type or 'лоджия' in info_type:\n",
    "                if 'не' not in info_value:\n",
    "                    is_balcony = '1'\n",
    "                else:\n",
    "                    is_balcony = '0'\n",
    "            else:\n",
    "                 pass\n",
    "        except Exception as e:\n",
    "            print(e)\n",
    "            return [np.nan]*3\n",
    "        \n",
    "        \n",
    "    return [is_new, ceiling_height, is_balcony]"
   ]
  },
  {
   "cell_type": "code",
   "execution_count": 11,
   "metadata": {},
   "outputs": [],
   "source": [
    "# извлекает из адреса вида \"Москва, ЦАО, р-н Басманный, ул. Новая Дорога\" информацию об округе москвы \"ЦАО\"\n",
    "def region_grabber(flat_soup):\n",
    "    full_address = flat_soup.find('div', attrs={'class':re.compile(\".*--geo--.*\")}).span['content']\n",
    "    region = re.findall(r'\\w+АО', full_address)\n",
    "    if region:\n",
    "        return region[0]\n",
    "    return 'unknown'"
   ]
  },
  {
   "cell_type": "code",
   "execution_count": 12,
   "metadata": {},
   "outputs": [],
   "source": [
    "def flat_grabber(flat_soup):\n",
    "    flat_info = []\n",
    "    #извлекаем Общую площадь, Жилую площадь, Площадь кухни, Этаж квартиры и Кол-во этажей в доме\n",
    "    flat_info = flat_info + square_and_floor_grabber(flat_soup)\n",
    "    \n",
    "    #извлекаем Время добираться до метро и Способ\n",
    "    flat_info = flat_info + underground_grabber(flat_soup)\n",
    "    \n",
    "    # Извлекаем Высоту потолка, Тип постройки, Информацию о балконе\n",
    "    flat_info = flat_info + general_info_grabber(flat_soup)\n",
    "    \n",
    "    #Извлекаем информацию о округе Москвы\n",
    "    flat_info.append(region_grabber(flat_soup))\n",
    "    \n",
    "    #Извлекаем цену квартиры\n",
    "    flat_info.append(price_grabber(flat_soup))\n",
    "    \n",
    "    return flat_info"
   ]
  },
  {
   "cell_type": "code",
   "execution_count": 13,
   "metadata": {},
   "outputs": [],
   "source": [
    "with open('links.txt','r') as file:\n",
    "    flat_links = [link.strip() for link in file.readlines()]\n",
    "\n",
    "\n",
    "flat_info = []\n",
    "flat_info.append(['total_square','living_square','kitchen_square','floor_number','floors_count', \n",
    "                  'underground_time', 'underground_way',\n",
    "                  'is_new','ceiling_height','is_balcony',\n",
    "                  'region',\n",
    "                  'price', \n",
    "                  'link'])\n",
    "\n",
    "user_agent_list = [\n",
    "   #Chrome\n",
    "    'Mozilla/5.0 (Windows NT 10.0; Win64; x64) AppleWebKit/537.36 (KHTML, like Gecko) Chrome/60.0.3112.113 Safari/537.36',\n",
    "    'Mozilla/5.0 (Windows NT 6.1; Win64; x64) AppleWebKit/537.36 (KHTML, like Gecko) Chrome/60.0.3112.90 Safari/537.36',\n",
    "    'Mozilla/5.0 (Windows NT 5.1; Win64; x64) AppleWebKit/537.36 (KHTML, like Gecko) Chrome/60.0.3112.90 Safari/537.36',\n",
    "    'Mozilla/5.0 (Windows NT 6.2; Win64; x64) AppleWebKit/537.36 (KHTML, like Gecko) Chrome/60.0.3112.90 Safari/537.36',\n",
    "    'Mozilla/5.0 (X11; Linux x86_64) AppleWebKit/537.36 (KHTML, like Gecko) Chrome/44.0.2403.157 Safari/537.36',\n",
    "    'Mozilla/5.0 (Windows NT 6.3; Win64; x64) AppleWebKit/537.36 (KHTML, like Gecko) Chrome/60.0.3112.113 Safari/537.36',\n",
    "    'Mozilla/5.0 (Windows NT 10.0; Win64; x64) AppleWebKit/537.36 (KHTML, like Gecko) Chrome/57.0.2987.133 Safari/537.36',\n",
    "    'Mozilla/5.0 (Windows NT 6.1; Win64; x64) AppleWebKit/537.36 (KHTML, like Gecko) Chrome/57.0.2987.133 Safari/537.36',\n",
    "    'Mozilla/5.0 (Windows NT 10.0; Win64; x64) AppleWebKit/537.36 (KHTML, like Gecko) Chrome/55.0.2883.87 Safari/537.36',\n",
    "    'Mozilla/5.0 (Windows NT 6.1; Win64; x64) AppleWebKit/537.36 (KHTML, like Gecko) Chrome/55.0.2883.87 Safari/537.36',\n",
    "    #Firefox\n",
    "    'Mozilla/4.0 (compatible; MSIE 9.0; Windows NT 6.1)',\n",
    "    'Mozilla/5.0 (Windows NT 6.1; WOW64; Trident/7.0; rv:11.0) like Gecko',\n",
    "    'Mozilla/5.0 (compatible; MSIE 9.0; Windows NT 6.1; WOW64; Trident/5.0)',\n",
    "    'Mozilla/5.0 (Windows NT 6.1; Trident/7.0; rv:11.0) like Gecko',\n",
    "    'Mozilla/5.0 (Windows NT 6.2; WOW64; Trident/7.0; rv:11.0) like Gecko',\n",
    "    'Mozilla/5.0 (Windows NT 10.0; WOW64; Trident/7.0; rv:11.0) like Gecko',\n",
    "    'Mozilla/5.0 (compatible; MSIE 9.0; Windows NT 6.0; Trident/5.0)',\n",
    "    'Mozilla/5.0 (Windows NT 6.3; WOW64; Trident/7.0; rv:11.0) like Gecko',\n",
    "    'Mozilla/5.0 (compatible; MSIE 9.0; Windows NT 6.1; Trident/5.0)',\n",
    "    'Mozilla/5.0 (Windows NT 6.1; Win64; x64; Trident/7.0; rv:11.0) like Gecko',\n",
    "    'Mozilla/5.0 (compatible; MSIE 10.0; Windows NT 6.1; WOW64; Trident/6.0)',\n",
    "    'Mozilla/5.0 (compatible; MSIE 10.0; Windows NT 6.1; Trident/6.0)',\n",
    "    'Mozilla/4.0 (compatible; MSIE 8.0; Windows NT 5.1; Trident/4.0; .NET CLR 2.0.50727; .NET CLR 3.0.4506.2152; .NET CLR 3.5.30729)'\n",
    "]"
   ]
  },
  {
   "cell_type": "code",
   "execution_count": 33,
   "metadata": {},
   "outputs": [
    {
     "name": "stdout",
     "output_type": "stream",
     "text": [
      "id = 0 link= https://www.cian.ru/sale/flat/222268373/\n",
      "Меняем User Agent\n",
      "Обработано 0.00% ссылок . Всего ошибок 0\n",
      "id = 1 link= https://www.cian.ru/sale/flat/207506151/\n",
      "Обработано 1.02% ссылок . Всего ошибок 0\n",
      "id = 2 link= https://www.cian.ru/sale/flat/207577204/\n",
      "Обработано 2.04% ссылок . Всего ошибок 0\n",
      "id = 3 link= https://www.cian.ru/sale/flat/222854637/\n",
      "Обработано 3.06% ссылок . Всего ошибок 0\n",
      "id = 4 link= https://www.cian.ru/sale/flat/219435604/\n",
      "Обработано 4.08% ссылок . Всего ошибок 0\n",
      "id = 5 link= https://www.cian.ru/sale/flat/223302655/\n",
      "Обработано 5.10% ссылок . Всего ошибок 0\n",
      "id = 6 link= https://www.cian.ru/sale/flat/219797707/\n",
      "Обработано 6.12% ссылок . Всего ошибок 0\n",
      "id = 7 link= https://www.cian.ru/sale/flat/192952629/\n",
      "Обработано 7.14% ссылок . Всего ошибок 0\n",
      "id = 8 link= https://www.cian.ru/sale/flat/219686998/\n",
      "Обработано 8.16% ссылок . Всего ошибок 0\n",
      "id = 9 link= https://www.cian.ru/sale/flat/223000854/\n",
      "Обработано 9.18% ссылок . Всего ошибок 0\n",
      "id = 10 link= https://www.cian.ru/sale/flat/223318994/\n",
      "Меняем User Agent\n",
      "Обработано 10.20% ссылок . Всего ошибок 0\n",
      "id = 11 link= https://www.cian.ru/sale/flat/222954866/\n",
      "Обработано 11.22% ссылок . Всего ошибок 0\n",
      "id = 12 link= https://www.cian.ru/sale/flat/217272493/\n",
      "Обработано 12.24% ссылок . Всего ошибок 0\n",
      "id = 13 link= https://www.cian.ru/sale/flat/222645795/\n",
      "Обработано 13.27% ссылок . Всего ошибок 0\n",
      "id = 14 link= https://www.cian.ru/sale/flat/222202799/\n",
      "Обработано 14.29% ссылок . Всего ошибок 0\n",
      "id = 15 link= https://www.cian.ru/sale/flat/193125135/\n",
      "Обработано 15.31% ссылок . Всего ошибок 0\n",
      "id = 16 link= https://www.cian.ru/sale/flat/193125042/\n",
      "Обработано 16.33% ссылок . Всего ошибок 0\n",
      "id = 17 link= https://www.cian.ru/sale/flat/212457151/\n",
      "Обработано 17.35% ссылок . Всего ошибок 0\n",
      "id = 18 link= https://www.cian.ru/sale/flat/217985430/\n",
      "Обработано 18.37% ссылок . Всего ошибок 0\n",
      "id = 19 link= https://www.cian.ru/sale/flat/215453403/\n",
      "Обработано 19.39% ссылок . Всего ошибок 0\n",
      "id = 20 link= https://www.cian.ru/sale/flat/219782707/\n",
      "Меняем User Agent\n",
      "Обработано 20.41% ссылок . Всего ошибок 0\n",
      "id = 21 link= https://www.cian.ru/sale/flat/196082625/\n",
      "Обработано 21.43% ссылок . Всего ошибок 0\n",
      "id = 22 link= https://www.cian.ru/sale/flat/219487775/\n",
      "'NoneType' object has no attribute 'get_text'\n",
      "Обработано 22.45% ссылок . Всего ошибок 0\n",
      "id = 23 link= https://www.cian.ru/sale/flat/223258044/\n",
      "Обработано 23.47% ссылок . Всего ошибок 0\n",
      "id = 24 link= https://www.cian.ru/sale/flat/221910862/\n",
      "Обработано 24.49% ссылок . Всего ошибок 0\n",
      "id = 25 link= https://www.cian.ru/sale/flat/219626351/\n",
      "Обработано 25.51% ссылок . Всего ошибок 0\n",
      "id = 26 link= https://www.cian.ru/sale/flat/223093578/\n",
      "Обработано 26.53% ссылок . Всего ошибок 0\n",
      "id = 27 link= https://www.cian.ru/sale/flat/193124982/\n",
      "Обработано 27.55% ссылок . Всего ошибок 0\n",
      "id = 28 link= https://www.cian.ru/sale/flat/222386078/\n",
      "Обработано 28.57% ссылок . Всего ошибок 0\n",
      "id = 29 link= https://www.cian.ru/sale/flat/222973083/\n",
      "Обработано 29.59% ссылок . Всего ошибок 0\n",
      "id = 30 link= https://www.cian.ru/sale/flat/221966593/\n",
      "Меняем User Agent\n",
      "Обработано 30.61% ссылок . Всего ошибок 0\n",
      "id = 31 link= https://www.cian.ru/sale/flat/215603653/\n",
      "Обработано 31.63% ссылок . Всего ошибок 0\n",
      "id = 32 link= https://www.cian.ru/sale/flat/189459805/\n",
      "Обработано 32.65% ссылок . Всего ошибок 0\n",
      "id = 33 link= https://www.cian.ru/sale/flat/219421296/\n",
      "Обработано 33.67% ссылок . Всего ошибок 0\n",
      "id = 34 link= https://www.cian.ru/sale/flat/219912394/\n",
      "Обработано 34.69% ссылок . Всего ошибок 0\n",
      "id = 35 link= https://www.cian.ru/sale/flat/219693925/\n",
      "Обработано 35.71% ссылок . Всего ошибок 0\n",
      "id = 36 link= https://www.cian.ru/sale/flat/220919097/\n",
      "Обработано 36.73% ссылок . Всего ошибок 0\n",
      "id = 37 link= https://www.cian.ru/sale/flat/222498174/\n",
      "Обработано 37.76% ссылок . Всего ошибок 0\n",
      "id = 38 link= https://www.cian.ru/sale/flat/207391103/\n",
      "Обработано 38.78% ссылок . Всего ошибок 0\n",
      "id = 39 link= https://www.cian.ru/sale/flat/191723265/\n",
      "Обработано 39.80% ссылок . Всего ошибок 0\n",
      "id = 40 link= https://www.cian.ru/sale/flat/219690196/\n",
      "Меняем User Agent\n",
      "Обработано 40.82% ссылок . Всего ошибок 0\n",
      "id = 41 link= https://www.cian.ru/sale/flat/215452193/\n",
      "Обработано 41.84% ссылок . Всего ошибок 0\n",
      "id = 42 link= https://www.cian.ru/sale/flat/210037356/\n",
      "Обработано 42.86% ссылок . Всего ошибок 0\n",
      "id = 43 link= https://www.cian.ru/sale/flat/210293252/\n",
      "Обработано 43.88% ссылок . Всего ошибок 0\n",
      "id = 44 link= https://www.cian.ru/sale/flat/222683796/\n",
      "Обработано 44.90% ссылок . Всего ошибок 0\n",
      "id = 45 link= https://www.cian.ru/sale/flat/219899421/\n",
      "Обработано 45.92% ссылок . Всего ошибок 0\n",
      "id = 46 link= https://www.cian.ru/sale/flat/221846077/\n",
      "Обработано 46.94% ссылок . Всего ошибок 0\n",
      "id = 47 link= https://www.cian.ru/sale/flat/223277887/\n",
      "'NoneType' object has no attribute 'text'\n",
      "Обработано 47.96% ссылок . Всего ошибок 0\n",
      "id = 48 link= https://www.cian.ru/sale/flat/209047662/\n",
      "Обработано 48.98% ссылок . Всего ошибок 0\n",
      "id = 49 link= https://www.cian.ru/sale/flat/221411107/\n",
      "Обработано 50.00% ссылок . Всего ошибок 0\n",
      "id = 50 link= https://www.cian.ru/sale/flat/216388326/\n",
      "Меняем User Agent\n",
      "Обработано 51.02% ссылок . Всего ошибок 0\n",
      "id = 51 link= https://www.cian.ru/sale/flat/214549911/\n",
      "Обработано 52.04% ссылок . Всего ошибок 0\n",
      "id = 52 link= https://www.cian.ru/sale/flat/220219697/\n",
      "Обработано 53.06% ссылок . Всего ошибок 0\n",
      "id = 53 link= https://www.cian.ru/sale/flat/219875493/\n",
      "Обработано 54.08% ссылок . Всего ошибок 0\n",
      "id = 54 link= https://www.cian.ru/sale/flat/220755512/\n",
      "Обработано 55.10% ссылок . Всего ошибок 0\n",
      "id = 55 link= https://www.cian.ru/sale/flat/222683780/\n",
      "Обработано 56.12% ссылок . Всего ошибок 0\n",
      "id = 56 link= https://www.cian.ru/sale/flat/222683821/\n",
      "Обработано 57.14% ссылок . Всего ошибок 0\n",
      "id = 57 link= https://www.cian.ru/sale/flat/221411064/\n",
      "Обработано 58.16% ссылок . Всего ошибок 0\n",
      "id = 58 link= https://www.cian.ru/sale/flat/221706013/\n",
      "Обработано 59.18% ссылок . Всего ошибок 0\n",
      "id = 59 link= https://www.cian.ru/sale/flat/222343468/\n",
      "'NoneType' object has no attribute 'get_text'\n",
      "Обработано 60.20% ссылок . Всего ошибок 0\n",
      "id = 60 link= https://www.cian.ru/sale/flat/219252099/\n",
      "Меняем User Agent\n",
      "Обработано 61.22% ссылок . Всего ошибок 0\n",
      "id = 61 link= https://www.cian.ru/sale/flat/218560775/\n",
      "Обработано 62.24% ссылок . Всего ошибок 0\n",
      "id = 62 link= https://www.cian.ru/sale/flat/219633675/\n",
      "Обработано 63.27% ссылок . Всего ошибок 0\n",
      "id = 63 link= https://www.cian.ru/sale/flat/203923235/\n",
      "Обработано 64.29% ссылок . Всего ошибок 0\n",
      "id = 64 link= https://www.cian.ru/sale/flat/214277341/\n",
      "'NoneType' object has no attribute 'get_text'\n",
      "Обработано 65.31% ссылок . Всего ошибок 0\n",
      "id = 65 link= https://www.cian.ru/sale/flat/221178863/\n",
      "Обработано 66.33% ссылок . Всего ошибок 0\n",
      "id = 66 link= https://www.cian.ru/sale/flat/222172656/\n",
      "Обработано 67.35% ссылок . Всего ошибок 0\n",
      "id = 67 link= https://www.cian.ru/sale/flat/218014362/\n",
      "Обработано 68.37% ссылок . Всего ошибок 0\n",
      "id = 68 link= https://www.cian.ru/sale/flat/202275262/\n",
      "'NoneType' object has no attribute 'text'\n",
      "Обработано 69.39% ссылок . Всего ошибок 0\n",
      "id = 69 link= https://www.cian.ru/sale/flat/212105814/\n",
      "Обработано 70.41% ссылок . Всего ошибок 0\n",
      "id = 70 link= https://www.cian.ru/sale/flat/220694920/\n",
      "Меняем User Agent\n",
      "Обработано 71.43% ссылок . Всего ошибок 0\n",
      "id = 71 link= https://www.cian.ru/sale/flat/221411096/\n",
      "Обработано 72.45% ссылок . Всего ошибок 0\n",
      "id = 72 link= https://www.cian.ru/sale/flat/222641996/\n",
      "Обработано 73.47% ссылок . Всего ошибок 0\n",
      "id = 73 link= https://www.cian.ru/sale/flat/220970259/\n",
      "Обработано 74.49% ссылок . Всего ошибок 0\n",
      "id = 74 link= https://www.cian.ru/sale/flat/209679698/\n",
      "Обработано 75.51% ссылок . Всего ошибок 0\n",
      "id = 75 link= https://www.cian.ru/sale/flat/222027932/\n",
      "Обработано 76.53% ссылок . Всего ошибок 0\n",
      "id = 76 link= https://www.cian.ru/sale/flat/218170389/\n",
      "Обработано 77.55% ссылок . Всего ошибок 0\n",
      "id = 77 link= https://www.cian.ru/sale/flat/215166025/\n",
      "Обработано 78.57% ссылок . Всего ошибок 0\n",
      "id = 78 link= https://www.cian.ru/sale/flat/217257674/\n",
      "Обработано 79.59% ссылок . Всего ошибок 0\n",
      "id = 79 link= https://www.cian.ru/sale/flat/221411089/\n",
      "Обработано 80.61% ссылок . Всего ошибок 0\n",
      "id = 80 link= https://www.cian.ru/sale/flat/221396264/\n",
      "Меняем User Agent\n",
      "Обработано 81.63% ссылок . Всего ошибок 0\n"
     ]
    },
    {
     "name": "stdout",
     "output_type": "stream",
     "text": [
      "id = 81 link= https://www.cian.ru/sale/flat/220266880/\n",
      "Обработано 82.65% ссылок . Всего ошибок 0\n",
      "id = 82 link= https://www.cian.ru/sale/flat/219700019/\n",
      "Обработано 83.67% ссылок . Всего ошибок 0\n",
      "id = 83 link= https://www.cian.ru/sale/flat/221271538/\n",
      "Обработано 84.69% ссылок . Всего ошибок 0\n",
      "id = 84 link= https://www.cian.ru/sale/flat/222653069/\n",
      "Обработано 85.71% ссылок . Всего ошибок 0\n",
      "id = 85 link= https://www.cian.ru/sale/flat/218778876/\n",
      "Обработано 86.73% ссылок . Всего ошибок 0\n",
      "id = 86 link= https://www.cian.ru/sale/flat/197824807/\n",
      "'NoneType' object has no attribute 'get_text'\n",
      "Обработано 87.76% ссылок . Всего ошибок 0\n",
      "id = 87 link= https://www.cian.ru/sale/flat/220653926/\n",
      "Обработано 88.78% ссылок . Всего ошибок 0\n",
      "id = 88 link= https://www.cian.ru/sale/flat/220649171/\n",
      "Обработано 89.80% ссылок . Всего ошибок 0\n",
      "id = 89 link= https://www.cian.ru/sale/flat/220911467/\n",
      "Обработано 90.82% ссылок . Всего ошибок 0\n",
      "id = 90 link= https://www.cian.ru/sale/flat/219437193/\n",
      "Меняем User Agent\n",
      "Обработано 91.84% ссылок . Всего ошибок 0\n",
      "id = 91 link= https://www.cian.ru/sale/flat/211260140/\n",
      "Обработано 92.86% ссылок . Всего ошибок 0\n",
      "id = 92 link= https://www.cian.ru/sale/flat/210604585/\n",
      "Обработано 93.88% ссылок . Всего ошибок 0\n",
      "id = 93 link= https://www.cian.ru/sale/flat/219716824/\n",
      "'NoneType' object has no attribute 'text'\n",
      "Обработано 94.90% ссылок . Всего ошибок 0\n",
      "id = 94 link= https://www.cian.ru/sale/flat/220204287/\n",
      "Обработано 95.92% ссылок . Всего ошибок 0\n",
      "id = 95 link= https://www.cian.ru/sale/flat/217833471/\n",
      "Обработано 96.94% ссылок . Всего ошибок 0\n",
      "id = 96 link= https://www.cian.ru/sale/flat/212076780/\n",
      "Обработано 97.96% ссылок . Всего ошибок 0\n",
      "id = 97 link= https://www.cian.ru/sale/flat/222631855/\n",
      "Обработано 98.98% ссылок . Всего ошибок 0\n"
     ]
    }
   ],
   "source": [
    "working_errors = []\n",
    "for idx, link in enumerate(flat_links):\n",
    "    print(\"id = {} link= {}\".format(idx,link))\n",
    "    if idx%10 == 0:\n",
    "        print(\"Меняем User Agent\")\n",
    "        sleep(random.uniform(30,50))\n",
    "        user_agent = random.choice(user_agent_list)\n",
    "        \n",
    "    flat_page_response = requests.get(link, headers = {'User-Agent': user_agent})\n",
    "    \n",
    "    if flat_page_response.status_code == 200:\n",
    "        flat_soup = BeautifulSoup(flat_page_response.content,'lxml')\n",
    "        flat_info.append(flat_grabber(flat_soup) + [link])\n",
    "    else:\n",
    "        working_errors.append((flat_page_response.status_code,flat_page_response.content))\n",
    "    \n",
    "    if len(working_errors) > 3:\n",
    "        print(\"Превышено допустимое число ошибок\")\n",
    "        break\n",
    "        \n",
    "    print(\"Обработано {:.2%} ссылок . Всего ошибок {}\".format((idx + 1)/len(flat_links), len(working_errors)))\n",
    "    sleep(random.uniform(2,5))"
   ]
  },
  {
   "cell_type": "markdown",
   "metadata": {},
   "source": [
    "# 2. Первичный анализ данных (EDA)"
   ]
  },
  {
   "cell_type": "code",
   "execution_count": 94,
   "metadata": {},
   "outputs": [],
   "source": [
    "flats_df = pd.read_csv('flats.csv')"
   ]
  },
  {
   "cell_type": "code",
   "execution_count": 95,
   "metadata": {},
   "outputs": [
    {
     "data": {
      "text/html": [
       "<div>\n",
       "<style scoped>\n",
       "    .dataframe tbody tr th:only-of-type {\n",
       "        vertical-align: middle;\n",
       "    }\n",
       "\n",
       "    .dataframe tbody tr th {\n",
       "        vertical-align: top;\n",
       "    }\n",
       "\n",
       "    .dataframe thead th {\n",
       "        text-align: right;\n",
       "    }\n",
       "</style>\n",
       "<table border=\"1\" class=\"dataframe\">\n",
       "  <thead>\n",
       "    <tr style=\"text-align: right;\">\n",
       "      <th></th>\n",
       "      <th>total_square</th>\n",
       "      <th>living_square</th>\n",
       "      <th>kitchen_square</th>\n",
       "      <th>floor_number</th>\n",
       "      <th>floors_count</th>\n",
       "      <th>underground_time</th>\n",
       "      <th>underground_way</th>\n",
       "      <th>is_new</th>\n",
       "      <th>ceiling_height</th>\n",
       "      <th>is_balcony</th>\n",
       "      <th>region</th>\n",
       "      <th>price</th>\n",
       "      <th>link</th>\n",
       "    </tr>\n",
       "  </thead>\n",
       "  <tbody>\n",
       "    <tr>\n",
       "      <td>0</td>\n",
       "      <td>30.60</td>\n",
       "      <td>NaN</td>\n",
       "      <td>NaN</td>\n",
       "      <td>7</td>\n",
       "      <td>15</td>\n",
       "      <td>2.0</td>\n",
       "      <td>0.0</td>\n",
       "      <td>1.0</td>\n",
       "      <td>2.93</td>\n",
       "      <td>1.0</td>\n",
       "      <td>ЦАО</td>\n",
       "      <td>9822600.0</td>\n",
       "      <td>https://www.cian.ru/sale/flat/222751749/</td>\n",
       "    </tr>\n",
       "    <tr>\n",
       "      <td>1</td>\n",
       "      <td>50.00</td>\n",
       "      <td>16.0</td>\n",
       "      <td>20.0</td>\n",
       "      <td>70</td>\n",
       "      <td>80</td>\n",
       "      <td>7.0</td>\n",
       "      <td>1.0</td>\n",
       "      <td>0.0</td>\n",
       "      <td>3.50</td>\n",
       "      <td>NaN</td>\n",
       "      <td>ЦАО</td>\n",
       "      <td>23500000.0</td>\n",
       "      <td>https://www.cian.ru/sale/flat/221828977/</td>\n",
       "    </tr>\n",
       "    <tr>\n",
       "      <td>2</td>\n",
       "      <td>32.10</td>\n",
       "      <td>16.7</td>\n",
       "      <td>7.9</td>\n",
       "      <td>10</td>\n",
       "      <td>12</td>\n",
       "      <td>6.0</td>\n",
       "      <td>1.0</td>\n",
       "      <td>0.0</td>\n",
       "      <td>2.65</td>\n",
       "      <td>1.0</td>\n",
       "      <td>ЦАО</td>\n",
       "      <td>8400000.0</td>\n",
       "      <td>https://www.cian.ru/sale/flat/217566898/</td>\n",
       "    </tr>\n",
       "    <tr>\n",
       "      <td>3</td>\n",
       "      <td>64.53</td>\n",
       "      <td>16.4</td>\n",
       "      <td>25.1</td>\n",
       "      <td>6</td>\n",
       "      <td>21</td>\n",
       "      <td>7.0</td>\n",
       "      <td>1.0</td>\n",
       "      <td>1.0</td>\n",
       "      <td>3.00</td>\n",
       "      <td>1.0</td>\n",
       "      <td>ЦАО</td>\n",
       "      <td>27973755.0</td>\n",
       "      <td>https://www.cian.ru/sale/flat/217400473/</td>\n",
       "    </tr>\n",
       "    <tr>\n",
       "      <td>4</td>\n",
       "      <td>39.36</td>\n",
       "      <td>NaN</td>\n",
       "      <td>NaN</td>\n",
       "      <td>50</td>\n",
       "      <td>63</td>\n",
       "      <td>6.0</td>\n",
       "      <td>1.0</td>\n",
       "      <td>1.0</td>\n",
       "      <td>NaN</td>\n",
       "      <td>NaN</td>\n",
       "      <td>ЦАО</td>\n",
       "      <td>20112960.0</td>\n",
       "      <td>https://www.cian.ru/sale/flat/210037899/</td>\n",
       "    </tr>\n",
       "  </tbody>\n",
       "</table>\n",
       "</div>"
      ],
      "text/plain": [
       "   total_square  living_square  kitchen_square  floor_number  floors_count  \\\n",
       "0         30.60            NaN             NaN             7            15   \n",
       "1         50.00           16.0            20.0            70            80   \n",
       "2         32.10           16.7             7.9            10            12   \n",
       "3         64.53           16.4            25.1             6            21   \n",
       "4         39.36            NaN             NaN            50            63   \n",
       "\n",
       "   underground_time  underground_way  is_new  ceiling_height  is_balcony  \\\n",
       "0               2.0              0.0     1.0            2.93         1.0   \n",
       "1               7.0              1.0     0.0            3.50         NaN   \n",
       "2               6.0              1.0     0.0            2.65         1.0   \n",
       "3               7.0              1.0     1.0            3.00         1.0   \n",
       "4               6.0              1.0     1.0             NaN         NaN   \n",
       "\n",
       "  region       price                                      link  \n",
       "0    ЦАО   9822600.0  https://www.cian.ru/sale/flat/222751749/  \n",
       "1    ЦАО  23500000.0  https://www.cian.ru/sale/flat/221828977/  \n",
       "2    ЦАО   8400000.0  https://www.cian.ru/sale/flat/217566898/  \n",
       "3    ЦАО  27973755.0  https://www.cian.ru/sale/flat/217400473/  \n",
       "4    ЦАО  20112960.0  https://www.cian.ru/sale/flat/210037899/  "
      ]
     },
     "execution_count": 95,
     "metadata": {},
     "output_type": "execute_result"
    }
   ],
   "source": [
    "flats_df.head() # смотрим на первые 5 строчек нашего датасета, чтобы убедиться, что данные корректно загрузились"
   ]
  },
  {
   "cell_type": "code",
   "execution_count": 96,
   "metadata": {},
   "outputs": [
    {
     "name": "stdout",
     "output_type": "stream",
     "text": [
      "<class 'pandas.core.frame.DataFrame'>\n",
      "RangeIndex: 1081 entries, 0 to 1080\n",
      "Data columns (total 13 columns):\n",
      "total_square        1081 non-null float64\n",
      "living_square       805 non-null float64\n",
      "kitchen_square      775 non-null float64\n",
      "floor_number        1081 non-null int64\n",
      "floors_count        1081 non-null int64\n",
      "underground_time    1036 non-null float64\n",
      "underground_way     1036 non-null float64\n",
      "is_new              1021 non-null float64\n",
      "ceiling_height      417 non-null float64\n",
      "is_balcony          386 non-null float64\n",
      "region              1081 non-null object\n",
      "price               1081 non-null float64\n",
      "link                1081 non-null object\n",
      "dtypes: float64(9), int64(2), object(2)\n",
      "memory usage: 109.9+ KB\n"
     ]
    }
   ],
   "source": [
    "flats_df.info()"
   ]
  },
  {
   "cell_type": "markdown",
   "metadata": {},
   "source": [
    "Можно заметить, что присутствуют признаки у которых достаточно много пропусков ( **> 50% от выборки**): `ceiling_height`, `is_balcony`. Поэтому давайте удалим данные признаки и будет строить модели кластеризации и регрессии без них."
   ]
  },
  {
   "cell_type": "code",
   "execution_count": 97,
   "metadata": {},
   "outputs": [],
   "source": [
    "flats_df.drop(['ceiling_height', 'is_balcony'], axis=1, inplace=True)"
   ]
  },
  {
   "cell_type": "markdown",
   "metadata": {},
   "source": [
    "Давайте построим корреляционную матрицу для наших признаков и удалим сильно коррелирующие между собой признаки, поскольку зачастую \n",
    "их присутствие в данных снижает качество модели"
   ]
  },
  {
   "cell_type": "code",
   "execution_count": 98,
   "metadata": {},
   "outputs": [
    {
     "data": {
      "text/plain": [
       "<matplotlib.axes._subplots.AxesSubplot at 0x17efb2e2160>"
      ]
     },
     "execution_count": 98,
     "metadata": {},
     "output_type": "execute_result"
    },
    {
     "data": {
      "image/png": "[encoded data removed]",
      "text/plain": [
       "<Figure size 720x576 with 2 Axes>"
      ]
     },
     "metadata": {
      "needs_background": "light"
     },
     "output_type": "display_data"
    }
   ],
   "source": [
    "f, ax = plt.subplots(figsize=(10, 8))\n",
    "corr = flats_df.corr()\n",
    "sns.heatmap(corr, mask=np.zeros_like(corr, dtype=np.bool), cmap=sns.diverging_palette(220, 10, as_cmap=True),\n",
    "            square=True, ax=ax)"
   ]
  },
  {
   "cell_type": "markdown",
   "metadata": {},
   "source": [
    "Видим что признаки `living_square` и `kitchen_square` достаточно сильно коррелируют с признаком `total_square`. А также `floor_number` сильно коррелирует с `floors_count`, что на самом деле тоже естественно: \"чем меньше этажей в доме, тем на меньшем этаже может располагаться квартира\".  \n",
    "Поэтому давайте также удалим следующие признаки: `living_square`, `kitchen_square` и `floors_count`"
   ]
  },
  {
   "cell_type": "code",
   "execution_count": 99,
   "metadata": {},
   "outputs": [],
   "source": [
    "flats_df.drop(['living_square', 'kitchen_square', 'floors_count'], axis=1, inplace=True)"
   ]
  },
  {
   "cell_type": "markdown",
   "metadata": {},
   "source": [
    "Посмотрим на уникальные значения признака `region`"
   ]
  },
  {
   "cell_type": "code",
   "execution_count": 100,
   "metadata": {},
   "outputs": [
    {
     "data": {
      "text/plain": [
       "ЦАО    1081\n",
       "Name: region, dtype: int64"
      ]
     },
     "execution_count": 100,
     "metadata": {},
     "output_type": "execute_result"
    }
   ],
   "source": [
    "flats_df['region'].value_counts()"
   ]
  },
  {
   "cell_type": "markdown",
   "metadata": {},
   "source": [
    "К сожалению в нашем наборе имеются только квартиры из одного региона, а признак соответственно принимает только одно значение, \n",
    "что тоже очень плохо (\"не имеет никакой разделяющей способностью\"). Поэтому этот признак тоже придется удалить."
   ]
  },
  {
   "cell_type": "code",
   "execution_count": 101,
   "metadata": {},
   "outputs": [],
   "source": [
    "flats_df.drop(['region'], axis=1, inplace=True)"
   ]
  },
  {
   "cell_type": "code",
   "execution_count": 102,
   "metadata": {},
   "outputs": [
    {
     "name": "stdout",
     "output_type": "stream",
     "text": [
      "<class 'pandas.core.frame.DataFrame'>\n",
      "RangeIndex: 1081 entries, 0 to 1080\n",
      "Data columns (total 7 columns):\n",
      "total_square        1081 non-null float64\n",
      "floor_number        1081 non-null int64\n",
      "underground_time    1036 non-null float64\n",
      "underground_way     1036 non-null float64\n",
      "is_new              1021 non-null float64\n",
      "price               1081 non-null float64\n",
      "link                1081 non-null object\n",
      "dtypes: float64(5), int64(1), object(1)\n",
      "memory usage: 59.2+ KB\n"
     ]
    }
   ],
   "source": [
    "flats_df.info()"
   ]
  },
  {
   "cell_type": "markdown",
   "metadata": {},
   "source": [
    "У нас остались признаки с пропусками (`underground_time`, `underground_way`, `is_new`), но пропусков не так много. \n",
    "Поэтому давайте заменим пропуски на медианные значения в признаке `underground_time`. А в признаках `underground_way`и \n",
    "`is_new` на моду (эти признаки бинарные, поэтому мы не можем на медианные значения заменить)."
   ]
  },
  {
   "cell_type": "code",
   "execution_count": 105,
   "metadata": {},
   "outputs": [],
   "source": [
    "flats_df['underground_time'].fillna(flats_df['underground_time'].median(), inplace=True)"
   ]
  },
  {
   "cell_type": "code",
   "execution_count": 112,
   "metadata": {},
   "outputs": [],
   "source": [
    "flats_df['is_new'].fillna(flats_df['is_new'].mode()[0], inplace=True)\n",
    "flats_df['underground_way'].fillna(flats_df['underground_way'].mode()[0], inplace=True)"
   ]
  },
  {
   "cell_type": "code",
   "execution_count": 113,
   "metadata": {},
   "outputs": [
    {
     "name": "stdout",
     "output_type": "stream",
     "text": [
      "<class 'pandas.core.frame.DataFrame'>\n",
      "RangeIndex: 1081 entries, 0 to 1080\n",
      "Data columns (total 7 columns):\n",
      "total_square        1081 non-null float64\n",
      "floor_number        1081 non-null int64\n",
      "underground_time    1081 non-null float64\n",
      "underground_way     1081 non-null float64\n",
      "is_new              1081 non-null float64\n",
      "price               1081 non-null float64\n",
      "link                1081 non-null object\n",
      "dtypes: float64(5), int64(1), object(1)\n",
      "memory usage: 59.2+ KB\n"
     ]
    }
   ],
   "source": [
    "flats_df.info()"
   ]
  },
  {
   "cell_type": "markdown",
   "metadata": {},
   "source": [
    "Посмотрим на разброс наших признаков с помощью boxplot-диаграммы"
   ]
  },
  {
   "cell_type": "code",
   "execution_count": 149,
   "metadata": {},
   "outputs": [
    {
     "data": {
      "text/plain": [
       "<matplotlib.axes._subplots.AxesSubplot at 0x17efe288b38>"
      ]
     },
     "execution_count": 149,
     "metadata": {},
     "output_type": "execute_result"
    },
    {
     "data": {
      "image/png": "[encoded data removed]",
      "text/plain": [
       "<Figure size 720x576 with 1 Axes>"
      ]
     },
     "metadata": {},
     "output_type": "display_data"
    }
   ],
   "source": [
    "flats_df.boxplot()"
   ]
  },
  {
   "cell_type": "markdown",
   "metadata": {},
   "source": [
    "Видим что, есть признаки с большим разбросом, например `total_square`. Центрируем и нормируем наши признаки (без признака `link`). "
   ]
  },
  {
   "cell_type": "code",
   "execution_count": 222,
   "metadata": {},
   "outputs": [],
   "source": [
    "normalized_df=(flats_df.iloc[:,:-1]-flats_df.iloc[:,:-1].mean())/flats_df.iloc[:,:-1].std() "
   ]
  },
  {
   "cell_type": "code",
   "execution_count": 223,
   "metadata": {},
   "outputs": [
    {
     "data": {
      "text/plain": [
       "<matplotlib.axes._subplots.AxesSubplot at 0x17e83194da0>"
      ]
     },
     "execution_count": 223,
     "metadata": {},
     "output_type": "execute_result"
    },
    {
     "data": {
      "image/png": "[encoded data removed]",
      "text/plain": [
       "<Figure size 720x576 with 1 Axes>"
      ]
     },
     "metadata": {},
     "output_type": "display_data"
    }
   ],
   "source": [
    "normalized_df.boxplot()"
   ]
  },
  {
   "cell_type": "markdown",
   "metadata": {},
   "source": [
    "Выделим в отдельные переменные целевой признак `price` и остальные независимые переменные (кроме `link`). Это необходимо для кластеризации и построения регрессионной модели."
   ]
  },
  {
   "cell_type": "code",
   "execution_count": 233,
   "metadata": {},
   "outputs": [
    {
     "data": {
      "text/html": [
       "<div>\n",
       "<style scoped>\n",
       "    .dataframe tbody tr th:only-of-type {\n",
       "        vertical-align: middle;\n",
       "    }\n",
       "\n",
       "    .dataframe tbody tr th {\n",
       "        vertical-align: top;\n",
       "    }\n",
       "\n",
       "    .dataframe thead th {\n",
       "        text-align: right;\n",
       "    }\n",
       "</style>\n",
       "<table border=\"1\" class=\"dataframe\">\n",
       "  <thead>\n",
       "    <tr style=\"text-align: right;\">\n",
       "      <th></th>\n",
       "      <th>total_square</th>\n",
       "      <th>floor_number</th>\n",
       "      <th>underground_time</th>\n",
       "      <th>underground_way</th>\n",
       "      <th>is_new</th>\n",
       "    </tr>\n",
       "  </thead>\n",
       "  <tbody>\n",
       "    <tr>\n",
       "      <td>0</td>\n",
       "      <td>-0.749857</td>\n",
       "      <td>-0.213392</td>\n",
       "      <td>-1.412881</td>\n",
       "      <td>-3.559749</td>\n",
       "      <td>1.881154</td>\n",
       "    </tr>\n",
       "    <tr>\n",
       "      <td>1</td>\n",
       "      <td>0.134065</td>\n",
       "      <td>4.109221</td>\n",
       "      <td>-0.143918</td>\n",
       "      <td>0.280659</td>\n",
       "      <td>-0.531097</td>\n",
       "    </tr>\n",
       "    <tr>\n",
       "      <td>2</td>\n",
       "      <td>-0.681512</td>\n",
       "      <td>-0.007553</td>\n",
       "      <td>-0.397710</td>\n",
       "      <td>0.280659</td>\n",
       "      <td>-0.531097</td>\n",
       "    </tr>\n",
       "    <tr>\n",
       "      <td>3</td>\n",
       "      <td>0.796095</td>\n",
       "      <td>-0.282005</td>\n",
       "      <td>-0.143918</td>\n",
       "      <td>0.280659</td>\n",
       "      <td>1.881154</td>\n",
       "    </tr>\n",
       "    <tr>\n",
       "      <td>4</td>\n",
       "      <td>-0.350725</td>\n",
       "      <td>2.736963</td>\n",
       "      <td>-0.397710</td>\n",
       "      <td>0.280659</td>\n",
       "      <td>1.881154</td>\n",
       "    </tr>\n",
       "  </tbody>\n",
       "</table>\n",
       "</div>"
      ],
      "text/plain": [
       "   total_square  floor_number  underground_time  underground_way    is_new\n",
       "0     -0.749857     -0.213392         -1.412881        -3.559749  1.881154\n",
       "1      0.134065      4.109221         -0.143918         0.280659 -0.531097\n",
       "2     -0.681512     -0.007553         -0.397710         0.280659 -0.531097\n",
       "3      0.796095     -0.282005         -0.143918         0.280659  1.881154\n",
       "4     -0.350725      2.736963         -0.397710         0.280659  1.881154"
      ]
     },
     "execution_count": 233,
     "metadata": {},
     "output_type": "execute_result"
    }
   ],
   "source": [
    "X = normalized_df.loc[:,:'is_new'] \n",
    "X.head()"
   ]
  },
  {
   "cell_type": "code",
   "execution_count": 234,
   "metadata": {},
   "outputs": [
    {
     "data": {
      "text/plain": [
       "0   -0.664064\n",
       "1    0.248418\n",
       "2   -0.758972\n",
       "3    0.546882\n",
       "4    0.022453\n",
       "Name: price, dtype: float64"
      ]
     },
     "execution_count": 234,
     "metadata": {},
     "output_type": "execute_result"
    }
   ],
   "source": [
    "Y = normalized_df['price'] # целевой признак\n",
    "Y.head()"
   ]
  },
  {
   "cell_type": "code",
   "execution_count": 230,
   "metadata": {},
   "outputs": [
    {
     "data": {
      "text/plain": [
       "0    https://www.cian.ru/sale/flat/222751749/\n",
       "1    https://www.cian.ru/sale/flat/221828977/\n",
       "2    https://www.cian.ru/sale/flat/217566898/\n",
       "3    https://www.cian.ru/sale/flat/217400473/\n",
       "4    https://www.cian.ru/sale/flat/210037899/\n",
       "Name: link, dtype: object"
      ]
     },
     "execution_count": 230,
     "metadata": {},
     "output_type": "execute_result"
    }
   ],
   "source": [
    "Links = flats_df['link']\n",
    "Links.head()"
   ]
  },
  {
   "cell_type": "markdown",
   "metadata": {},
   "source": [
    "# 3. Кластеризация данных\n",
    "Для кластеризации будем использовать метод K-средних. Оптимальное количество кластеров будем подбирать с помощью Silhouette метода. "
   ]
  },
  {
   "cell_type": "code",
   "execution_count": 235,
   "metadata": {},
   "outputs": [
    {
     "data": {
      "text/plain": [
       "KMeans(copy_x=True, init='k-means++', max_iter=300, n_clusters=3, n_init=10,\n",
       "    n_jobs=1, precompute_distances='auto', random_state=17, tol=0.0001,\n",
       "    verbose=0)"
      ]
     },
     "execution_count": 235,
     "metadata": {},
     "output_type": "execute_result"
    }
   ],
   "source": [
    "# пробная кластеризация\n",
    "kmeans = KMeans(n_clusters=3, init='k-means++', max_iter=300, n_init=10, random_state=RANDOM_STATE)\n",
    "kmeans.fit(X)"
   ]
  },
  {
   "cell_type": "markdown",
   "metadata": {},
   "source": [
    "Визуализируем полученные нами кластеры. Для этого сначала понизим размерность данных с помощью метода главных компонент (PCA)"
   ]
  },
  {
   "cell_type": "code",
   "execution_count": 238,
   "metadata": {},
   "outputs": [],
   "source": [
    "# Выполняем снижение размерности\n",
    "pca = decomposition.PCA(n_components=2)\n",
    "X_pca = pca.fit_transform(X)"
   ]
  },
  {
   "cell_type": "code",
   "execution_count": 239,
   "metadata": {},
   "outputs": [],
   "source": [
    "# функция визуализирует результаты кластеризации\n",
    "def plot_pca_clustering(labels, X_pca):\n",
    "    colors = {1:'bo',2:'go',3:'ro', 4:'ko', 5:'co'}\n",
    "    for cluster_label in set(labels):\n",
    "        plt.plot(X_pca[labels == cluster_label, 0], \n",
    "                 X_pca[labels == cluster_label, 1], \n",
    "                 colors[cluster_label + 1], \n",
    "                 label='Cluster {}'.format(cluster_label + 1))\n",
    "    plt.legend()\n",
    "    plt.xlabel('PCA component 1')\n",
    "    plt.ylabel('PCA component 2')"
   ]
  },
  {
   "cell_type": "code",
   "execution_count": 240,
   "metadata": {},
   "outputs": [
    {
     "data": {
      "image/png": "[encoded data removed]",
      "text/plain": [
       "<Figure size 720x576 with 1 Axes>"
      ]
     },
     "metadata": {},
     "output_type": "display_data"
    }
   ],
   "source": [
    "plot_pca_clustering(kmeans.labels_, X_pca)"
   ]
  },
  {
   "cell_type": "markdown",
   "metadata": {},
   "source": [
    "Из полученных проекций можно увидеть, что можно выделить 2 кластера и можно заметить, что присутствует много выбросов, которые рассеянны.  \n",
    "Давайте подберем оптимальное количество кластеров и выполним кластеризацию с оптимальным количеством кластеров."
   ]
  },
  {
   "cell_type": "code",
   "execution_count": 243,
   "metadata": {},
   "outputs": [
    {
     "data": {
      "image/png": "[encoded data removed]",
      "text/plain": [
       "<Figure size 720x576 with 1 Axes>"
      ]
     },
     "metadata": {},
     "output_type": "display_data"
    }
   ],
   "source": [
    "s = []\n",
    "for i in range(2, 22):\n",
    "    kmeans = KMeans(n_clusters=i, init='k-means++', max_iter=1000, n_init=10, random_state=RANDOM_STATE)\n",
    "    kmeans.fit(X)\n",
    "    s.append(metrics.silhouette_score(X, kmeans.labels_))\n",
    "plt.plot(range(2, 22), s)\n",
    "plt.title('Silhouette метод')\n",
    "plt.xlabel('Число кластеров')\n",
    "plt.ylabel('Silhouette score')\n",
    "plt.show()"
   ]
  },
  {
   "cell_type": "markdown",
   "metadata": {},
   "source": [
    "Оптимальным количеством кластером считается то, при котором Silhouette принимает максимальное значение. \n",
    "В нашем случае отчетливо видно что максимальное значение эта метрика принимает при числе кластеров равном 2."
   ]
  },
  {
   "cell_type": "code",
   "execution_count": 244,
   "metadata": {},
   "outputs": [
    {
     "data": {
      "image/png": "[encoded data removed]",
      "text/plain": [
       "<Figure size 720x576 with 1 Axes>"
      ]
     },
     "metadata": {},
     "output_type": "display_data"
    }
   ],
   "source": [
    "kmeans = KMeans(n_clusters=2, init='k-means++', max_iter=300, n_init=10, random_state=RANDOM_STATE)\n",
    "kmeans.fit(X)\n",
    "plot_pca_clustering(kmeans.labels_, X_pca)"
   ]
  },
  {
   "cell_type": "markdown",
   "metadata": {},
   "source": [
    "Давайте попробуем итерпретировать полученные кластеры. Мы видим, что по первой главной компоненте просходит четкое разделение данных на два кластера. Давайте посмотрим как связаны каждая из главных компонент с исходными признаками. "
   ]
  },
  {
   "cell_type": "code",
   "execution_count": 251,
   "metadata": {},
   "outputs": [
    {
     "data": {
      "text/plain": [
       "array([[ 0.26074138, -0.0280067 ,  0.68753694,  0.6732559 ,  0.07244998],\n",
       "       [ 0.64677643,  0.37381114, -0.12379167, -0.17620049,  0.62894713]])"
      ]
     },
     "execution_count": 251,
     "metadata": {},
     "output_type": "execute_result"
    }
   ],
   "source": [
    "pca.components_ # матрица нагрузок (связи компонент с исходными признаками)\n",
    "# по строкам - компоненты\n",
    "# по столбцам - исходные признаки"
   ]
  },
  {
   "cell_type": "markdown",
   "metadata": {},
   "source": [
    "Заметим, что первая главная компонента наиболее сильно связана с 3-им (**0,68**) `underground_time` и 4-ым признаками (**0,67**) `underground_way`. Поэтому можно предположить, что в одном кластере находятся квартиры наиболее удаленные от метро, а в другом кластере - квартиры наименее удаленные от метро. Давайте также посмотрим на статистики признаков для каждого из кластеров."
   ]
  },
  {
   "cell_type": "code",
   "execution_count": 248,
   "metadata": {},
   "outputs": [
    {
     "data": {
      "text/html": [
       "<div>\n",
       "<style scoped>\n",
       "    .dataframe tbody tr th:only-of-type {\n",
       "        vertical-align: middle;\n",
       "    }\n",
       "\n",
       "    .dataframe tbody tr th {\n",
       "        vertical-align: top;\n",
       "    }\n",
       "\n",
       "    .dataframe thead th {\n",
       "        text-align: right;\n",
       "    }\n",
       "</style>\n",
       "<table border=\"1\" class=\"dataframe\">\n",
       "  <thead>\n",
       "    <tr style=\"text-align: right;\">\n",
       "      <th></th>\n",
       "      <th>total_square</th>\n",
       "      <th>floor_number</th>\n",
       "      <th>underground_time</th>\n",
       "      <th>underground_way</th>\n",
       "      <th>is_new</th>\n",
       "      <th>price</th>\n",
       "    </tr>\n",
       "  </thead>\n",
       "  <tbody>\n",
       "    <tr>\n",
       "      <td>count</td>\n",
       "      <td>1002.000000</td>\n",
       "      <td>1002.000000</td>\n",
       "      <td>1002.000000</td>\n",
       "      <td>1002.0</td>\n",
       "      <td>1002.000000</td>\n",
       "      <td>1002.000000</td>\n",
       "    </tr>\n",
       "    <tr>\n",
       "      <td>mean</td>\n",
       "      <td>47.487126</td>\n",
       "      <td>10.349301</td>\n",
       "      <td>7.889222</td>\n",
       "      <td>1.0</td>\n",
       "      <td>0.206587</td>\n",
       "      <td>20.228803</td>\n",
       "    </tr>\n",
       "    <tr>\n",
       "      <td>std</td>\n",
       "      <td>22.476428</td>\n",
       "      <td>14.985299</td>\n",
       "      <td>3.856401</td>\n",
       "      <td>0.0</td>\n",
       "      <td>0.405059</td>\n",
       "      <td>15.330694</td>\n",
       "    </tr>\n",
       "    <tr>\n",
       "      <td>min</td>\n",
       "      <td>15.000000</td>\n",
       "      <td>1.000000</td>\n",
       "      <td>1.000000</td>\n",
       "      <td>1.0</td>\n",
       "      <td>0.000000</td>\n",
       "      <td>3.439999</td>\n",
       "    </tr>\n",
       "    <tr>\n",
       "      <td>25%</td>\n",
       "      <td>35.000000</td>\n",
       "      <td>3.000000</td>\n",
       "      <td>5.000000</td>\n",
       "      <td>1.0</td>\n",
       "      <td>0.000000</td>\n",
       "      <td>10.812500</td>\n",
       "    </tr>\n",
       "    <tr>\n",
       "      <td>50%</td>\n",
       "      <td>42.000000</td>\n",
       "      <td>5.000000</td>\n",
       "      <td>7.000000</td>\n",
       "      <td>1.0</td>\n",
       "      <td>0.000000</td>\n",
       "      <td>16.000000</td>\n",
       "    </tr>\n",
       "    <tr>\n",
       "      <td>75%</td>\n",
       "      <td>51.600000</td>\n",
       "      <td>10.000000</td>\n",
       "      <td>10.000000</td>\n",
       "      <td>1.0</td>\n",
       "      <td>0.000000</td>\n",
       "      <td>24.795250</td>\n",
       "    </tr>\n",
       "    <tr>\n",
       "      <td>max</td>\n",
       "      <td>276.300000</td>\n",
       "      <td>80.000000</td>\n",
       "      <td>23.000000</td>\n",
       "      <td>1.0</td>\n",
       "      <td>1.000000</td>\n",
       "      <td>141.050000</td>\n",
       "    </tr>\n",
       "  </tbody>\n",
       "</table>\n",
       "</div>"
      ],
      "text/plain": [
       "       total_square  floor_number  underground_time  underground_way  \\\n",
       "count   1002.000000   1002.000000       1002.000000           1002.0   \n",
       "mean      47.487126     10.349301          7.889222              1.0   \n",
       "std       22.476428     14.985299          3.856401              0.0   \n",
       "min       15.000000      1.000000          1.000000              1.0   \n",
       "25%       35.000000      3.000000          5.000000              1.0   \n",
       "50%       42.000000      5.000000          7.000000              1.0   \n",
       "75%       51.600000     10.000000         10.000000              1.0   \n",
       "max      276.300000     80.000000         23.000000              1.0   \n",
       "\n",
       "            is_new        price  \n",
       "count  1002.000000  1002.000000  \n",
       "mean      0.206587    20.228803  \n",
       "std       0.405059    15.330694  \n",
       "min       0.000000     3.439999  \n",
       "25%       0.000000    10.812500  \n",
       "50%       0.000000    16.000000  \n",
       "75%       0.000000    24.795250  \n",
       "max       1.000000   141.050000  "
      ]
     },
     "execution_count": 248,
     "metadata": {},
     "output_type": "execute_result"
    }
   ],
   "source": [
    "flats_df[kmeans.labels_==0].describe() # квартиры, которые были отнесены в первый кластер \"синий\""
   ]
  },
  {
   "cell_type": "code",
   "execution_count": 249,
   "metadata": {},
   "outputs": [
    {
     "data": {
      "text/html": [
       "<div>\n",
       "<style scoped>\n",
       "    .dataframe tbody tr th:only-of-type {\n",
       "        vertical-align: middle;\n",
       "    }\n",
       "\n",
       "    .dataframe tbody tr th {\n",
       "        vertical-align: top;\n",
       "    }\n",
       "\n",
       "    .dataframe thead th {\n",
       "        text-align: right;\n",
       "    }\n",
       "</style>\n",
       "<table border=\"1\" class=\"dataframe\">\n",
       "  <thead>\n",
       "    <tr style=\"text-align: right;\">\n",
       "      <th></th>\n",
       "      <th>total_square</th>\n",
       "      <th>floor_number</th>\n",
       "      <th>underground_time</th>\n",
       "      <th>underground_way</th>\n",
       "      <th>is_new</th>\n",
       "      <th>price</th>\n",
       "    </tr>\n",
       "  </thead>\n",
       "  <tbody>\n",
       "    <tr>\n",
       "      <td>count</td>\n",
       "      <td>79.000000</td>\n",
       "      <td>79.000000</td>\n",
       "      <td>79.000000</td>\n",
       "      <td>79.0</td>\n",
       "      <td>79.000000</td>\n",
       "      <td>79.000000</td>\n",
       "    </tr>\n",
       "    <tr>\n",
       "      <td>mean</td>\n",
       "      <td>41.609494</td>\n",
       "      <td>7.075949</td>\n",
       "      <td>3.481013</td>\n",
       "      <td>0.0</td>\n",
       "      <td>0.392405</td>\n",
       "      <td>14.038475</td>\n",
       "    </tr>\n",
       "    <tr>\n",
       "      <td>std</td>\n",
       "      <td>12.408679</td>\n",
       "      <td>7.017875</td>\n",
       "      <td>2.422442</td>\n",
       "      <td>0.0</td>\n",
       "      <td>0.491406</td>\n",
       "      <td>7.662786</td>\n",
       "    </tr>\n",
       "    <tr>\n",
       "      <td>min</td>\n",
       "      <td>15.300000</td>\n",
       "      <td>1.000000</td>\n",
       "      <td>1.000000</td>\n",
       "      <td>0.0</td>\n",
       "      <td>0.000000</td>\n",
       "      <td>3.790000</td>\n",
       "    </tr>\n",
       "    <tr>\n",
       "      <td>25%</td>\n",
       "      <td>33.150000</td>\n",
       "      <td>3.000000</td>\n",
       "      <td>2.000000</td>\n",
       "      <td>0.0</td>\n",
       "      <td>0.000000</td>\n",
       "      <td>9.650000</td>\n",
       "    </tr>\n",
       "    <tr>\n",
       "      <td>50%</td>\n",
       "      <td>43.000000</td>\n",
       "      <td>5.000000</td>\n",
       "      <td>3.000000</td>\n",
       "      <td>0.0</td>\n",
       "      <td>0.000000</td>\n",
       "      <td>12.000000</td>\n",
       "    </tr>\n",
       "    <tr>\n",
       "      <td>75%</td>\n",
       "      <td>47.000000</td>\n",
       "      <td>7.000000</td>\n",
       "      <td>4.500000</td>\n",
       "      <td>0.0</td>\n",
       "      <td>1.000000</td>\n",
       "      <td>16.596530</td>\n",
       "    </tr>\n",
       "    <tr>\n",
       "      <td>max</td>\n",
       "      <td>89.400000</td>\n",
       "      <td>38.000000</td>\n",
       "      <td>17.000000</td>\n",
       "      <td>0.0</td>\n",
       "      <td>1.000000</td>\n",
       "      <td>53.176000</td>\n",
       "    </tr>\n",
       "  </tbody>\n",
       "</table>\n",
       "</div>"
      ],
      "text/plain": [
       "       total_square  floor_number  underground_time  underground_way  \\\n",
       "count     79.000000     79.000000         79.000000             79.0   \n",
       "mean      41.609494      7.075949          3.481013              0.0   \n",
       "std       12.408679      7.017875          2.422442              0.0   \n",
       "min       15.300000      1.000000          1.000000              0.0   \n",
       "25%       33.150000      3.000000          2.000000              0.0   \n",
       "50%       43.000000      5.000000          3.000000              0.0   \n",
       "75%       47.000000      7.000000          4.500000              0.0   \n",
       "max       89.400000     38.000000         17.000000              0.0   \n",
       "\n",
       "          is_new      price  \n",
       "count  79.000000  79.000000  \n",
       "mean    0.392405  14.038475  \n",
       "std     0.491406   7.662786  \n",
       "min     0.000000   3.790000  \n",
       "25%     0.000000   9.650000  \n",
       "50%     0.000000  12.000000  \n",
       "75%     1.000000  16.596530  \n",
       "max     1.000000  53.176000  "
      ]
     },
     "execution_count": 249,
     "metadata": {},
     "output_type": "execute_result"
    }
   ],
   "source": [
    "flats_df[kmeans.labels_==1].describe() # квартиры, которые были отнесены в первый кластер \"зеленый\""
   ]
  },
  {
   "cell_type": "markdown",
   "metadata": {},
   "source": [
    "Сразу заметим, что к первому кластеру относятся те квартиры от которых до метро быстрее и удобнее добираться пешком **`underground_way` = 1**. А ко второму кластеру относятся те квартиры от которых до метро добираться быстрее и удобнее на машине **`underground_way` = 0**."
   ]
  },
  {
   "cell_type": "markdown",
   "metadata": {},
   "source": [
    "# 4. Прогнозирование цены на квартиру\n",
    "Для прогнозирования будем строить регрессионную модель. В качестве модели возьмем решающие деревья (**Decision Trees**) и линейную регрессию (**Linear Regression**). В качестве метрики будем использовать **MAE - Mean Absolute Error**, поскольку она более интерпретируемы чем ,например, **RMSE**. Вначале разделим нашу выборку на обучающую `X_train` и тестовую `X_test`"
   ]
  },
  {
   "cell_type": "code",
   "execution_count": 257,
   "metadata": {},
   "outputs": [],
   "source": [
    "X_train, X_test, y_train, y_test = train_test_split(X, Y, test_size=0.3, random_state=RANDOM_STATE)"
   ]
  },
  {
   "cell_type": "markdown",
   "metadata": {},
   "source": [
    "## 4.1 Decision Tree"
   ]
  },
  {
   "cell_type": "markdown",
   "metadata": {},
   "source": [
    "### Модель без настройки параметров"
   ]
  },
  {
   "cell_type": "code",
   "execution_count": 333,
   "metadata": {},
   "outputs": [],
   "source": [
    "# обучение модели\n",
    "reg_tree_simple = DecisionTreeRegressor(random_state=RANDOM_STATE)\n",
    "reg_tree_simple.fit(X_train, y_train)\n",
    "reg_tree_simple_pred = reg_tree_simple.predict(X_test)"
   ]
  },
  {
   "cell_type": "code",
   "execution_count": 334,
   "metadata": {},
   "outputs": [
    {
     "name": "stdout",
     "output_type": "stream",
     "text": [
      "MAE = 0.309 млн руб\n"
     ]
    }
   ],
   "source": [
    "# качество полученной модели\n",
    "reg_tree_simple_MAE = metrics.mean_absolute_error(y_test, reg_tree_simple_pred)\n",
    "print(\"MAE = {:.3} млн руб\".format(reg_tree_simple_MAE))"
   ]
  },
  {
   "cell_type": "markdown",
   "metadata": {},
   "source": [
    "Получается, что наша модель в среднем ошибается на 309 тыс. рублей, что в принципе для начала неплохо, если учесть, что квартиры стоят от 3 до 141 млн. рублей. "
   ]
  },
  {
   "cell_type": "code",
   "execution_count": 335,
   "metadata": {},
   "outputs": [
    {
     "data": {
      "text/plain": [
       "array([0.87611458, 0.06832236, 0.03295309, 0.00283395, 0.01977602])"
      ]
     },
     "execution_count": 335,
     "metadata": {},
     "output_type": "execute_result"
    }
   ],
   "source": [
    "reg_tree_simple.feature_importances_ # важность признаков. Наиболее важным признаком оказалась жилая площадь"
   ]
  },
  {
   "cell_type": "markdown",
   "metadata": {},
   "source": [
    "### Модель с настройкой параметров"
   ]
  },
  {
   "cell_type": "code",
   "execution_count": 336,
   "metadata": {},
   "outputs": [
    {
     "name": "stdout",
     "output_type": "stream",
     "text": [
      "Fitting 5 folds for each of 80 candidates, totalling 400 fits\n"
     ]
    },
    {
     "name": "stderr",
     "output_type": "stream",
     "text": [
      "[Parallel(n_jobs=-1)]: Done 400 out of 400 | elapsed:    4.1s finished\n"
     ]
    },
    {
     "data": {
      "text/plain": [
       "GridSearchCV(cv=5, error_score='raise',\n",
       "       estimator=DecisionTreeRegressor(criterion='mse', max_depth=None, max_features=None,\n",
       "           max_leaf_nodes=None, min_samples_leaf=1, min_samples_split=2,\n",
       "           min_weight_fraction_leaf=0.0, presort=False, random_state=17,\n",
       "           splitter='best'),\n",
       "       fit_params={}, iid=True, n_jobs=-1,\n",
       "       param_grid={'min_samples_split': [5, 15, 25, 35, 45, 55, 65, 75, 85, 95], 'max_depth': [2, 3, 4, 5, 6, 7, 8, 9]},\n",
       "       pre_dispatch='2*n_jobs', refit=True, scoring='mean_absolute_error',\n",
       "       verbose=True)"
      ]
     },
     "execution_count": 336,
     "metadata": {},
     "output_type": "execute_result"
    }
   ],
   "source": [
    "reg_tree_custom = DecisionTreeRegressor(random_state=RANDOM_STATE)\n",
    "grid_params = {'max_depth' : list(range(2,10)), # параметры, которые будем подбирать\n",
    "                'min_samples_split' : list(range(5,100,10))}\n",
    "reg_tree_grid = GridSearchCV(reg_tree_custom, \n",
    "                             grid_params, \n",
    "                             cv=5, \n",
    "                             n_jobs=-1, \n",
    "                             verbose=True, \n",
    "                             scoring='mean_absolute_error')\n",
    "reg_tree_grid.fit(X_train, y_train)"
   ]
  },
  {
   "cell_type": "code",
   "execution_count": 337,
   "metadata": {},
   "outputs": [
    {
     "data": {
      "text/plain": [
       "{'max_depth': 8, 'min_samples_split': 15}"
      ]
     },
     "execution_count": 337,
     "metadata": {},
     "output_type": "execute_result"
    }
   ],
   "source": [
    "reg_tree_grid.best_params_ # лучшие параметры"
   ]
  },
  {
   "cell_type": "markdown",
   "metadata": {},
   "source": [
    "Обучим модель решающее дерево, используя оптимальные параметры"
   ]
  },
  {
   "cell_type": "code",
   "execution_count": 338,
   "metadata": {},
   "outputs": [
    {
     "name": "stdout",
     "output_type": "stream",
     "text": [
      "MAE = 0.285 млн руб\n"
     ]
    }
   ],
   "source": [
    "reg_tree_custom = DecisionTreeRegressor(max_depth=8, min_samples_split=15, random_state=RANDOM_STATE)\n",
    "reg_tree_custom.fit(X_train, y_train)\n",
    "reg_tree_simple_pred = reg_tree_custom.predict(X_test)\n",
    "reg_tree_custom_MAE = metrics.mean_absolute_error(y_test, reg_tree_simple_pred)\n",
    "print(\"MAE = {:.3} млн руб\".format(reg_tree_custom_MAE))"
   ]
  },
  {
   "cell_type": "markdown",
   "metadata": {},
   "source": [
    "С оптимальными параметрами решающее дерево немного лучше справляется с прогнозированием"
   ]
  },
  {
   "cell_type": "markdown",
   "metadata": {},
   "source": [
    "## 4.2 Random Forest\n"
   ]
  },
  {
   "cell_type": "markdown",
   "metadata": {},
   "source": [
    "### Модель без настройки параметров"
   ]
  },
  {
   "cell_type": "code",
   "execution_count": 326,
   "metadata": {},
   "outputs": [
    {
     "name": "stdout",
     "output_type": "stream",
     "text": [
      "MAE = 0.253 млн руб\n"
     ]
    }
   ],
   "source": [
    "reg_rf = RandomForestRegressor(random_state=RANDOM_STATE)\n",
    "reg_rf.fit(X_train, y_train)\n",
    "reg_rf_predicted = reg_rf.predict(X_test)\n",
    "reg_rf_MAE = metrics.mean_absolute_error(y_test, reg_rf_predicted)\n",
    "print(\"MAE = {:.3} млн руб\".format(reg_rf_MAE))"
   ]
  },
  {
   "cell_type": "markdown",
   "metadata": {},
   "source": [
    "Видим что случайный лес без настройки параметров справляется с задачей намного лучше обычного решающего дерева."
   ]
  },
  {
   "cell_type": "markdown",
   "metadata": {},
   "source": [
    "### Модель с настройкой параметров"
   ]
  },
  {
   "cell_type": "code",
   "execution_count": 330,
   "metadata": {},
   "outputs": [
    {
     "name": "stdout",
     "output_type": "stream",
     "text": [
      "Fitting 5 folds for each of 184 candidates, totalling 920 fits\n"
     ]
    },
    {
     "name": "stderr",
     "output_type": "stream",
     "text": [
      "[Parallel(n_jobs=-1)]: Done  42 tasks      | elapsed:    7.8s\n",
      "[Parallel(n_jobs=-1)]: Done 192 tasks      | elapsed:   38.0s\n",
      "[Parallel(n_jobs=-1)]: Done 442 tasks      | elapsed:  1.6min\n",
      "[Parallel(n_jobs=-1)]: Done 792 tasks      | elapsed:  3.0min\n",
      "[Parallel(n_jobs=-1)]: Done 920 out of 920 | elapsed:  3.6min finished\n"
     ]
    },
    {
     "data": {
      "text/plain": [
       "GridSearchCV(cv=5, error_score='raise',\n",
       "       estimator=RandomForestRegressor(bootstrap=True, criterion='mse', max_depth=None,\n",
       "           max_features='auto', max_leaf_nodes=None, min_samples_leaf=1,\n",
       "           min_samples_split=2, min_weight_fraction_leaf=0.0,\n",
       "           n_estimators=10, n_jobs=1, oob_score=False, random_state=17,\n",
       "           verbose=0, warm_start=False),\n",
       "       fit_params={}, iid=True, n_jobs=-1,\n",
       "       param_grid={'n_estimators': [50, 70, 90, 110, 130, 150, 170, 190, 210, 230, 250, 270, 290, 310, 330, 350, 370, 390, 410, 430, 450, 470, 490], 'max_depth': [2, 3, 4, 5, 6, 7, 8, 9]},\n",
       "       pre_dispatch='2*n_jobs', refit=True, scoring='mean_absolute_error',\n",
       "       verbose=True)"
      ]
     },
     "execution_count": 330,
     "metadata": {},
     "output_type": "execute_result"
    }
   ],
   "source": [
    "reg_rf_custom = RandomForestRegressor(random_state=RANDOM_STATE)\n",
    "rf_grid_params = {'max_depth' : list(range(2,10)), # параметры, которые будем подбирать\n",
    "               'n_estimators' : list(range(50,500,20))}\n",
    "reg_rf_grid = GridSearchCV(reg_rf_custom, \n",
    "                             rf_grid_params, \n",
    "                             cv=5, \n",
    "                             n_jobs=-1, \n",
    "                             verbose=True, \n",
    "                             scoring='mean_absolute_error')\n",
    "reg_rf_grid.fit(X_train, y_train)"
   ]
  },
  {
   "cell_type": "code",
   "execution_count": 331,
   "metadata": {},
   "outputs": [
    {
     "data": {
      "text/plain": [
       "{'max_depth': 9, 'n_estimators': 410}"
      ]
     },
     "execution_count": 331,
     "metadata": {},
     "output_type": "execute_result"
    }
   ],
   "source": [
    "reg_rf_grid.best_params_"
   ]
  },
  {
   "cell_type": "code",
   "execution_count": 332,
   "metadata": {},
   "outputs": [
    {
     "name": "stdout",
     "output_type": "stream",
     "text": [
      "MAE = 0.243 млн руб\n"
     ]
    }
   ],
   "source": [
    "reg_rf_custom = RandomForestRegressor(n_estimators=410, max_depth=9, random_state=RANDOM_STATE)\n",
    "reg_rf_custom.fit(X_train, y_train)\n",
    "reg_rf_custom_predicted = reg_rf_custom.predict(X_test)\n",
    "reg_rf_custom_MAE = metrics.mean_absolute_error(y_test, reg_rf_custom_predicted)\n",
    "print(\"MAE = {:.3} млн руб\".format(reg_rf_custom_MAE))"
   ]
  },
  {
   "cell_type": "markdown",
   "metadata": {},
   "source": [
    "Ошибку удалось снизить за счет оптимизации параметров"
   ]
  },
  {
   "cell_type": "markdown",
   "metadata": {},
   "source": [
    "## 4.3 Linear Regression\n",
    "Сначала обучим обычную линейную регрессию, потом обучим Ridge регрессию - линейная регрессия с L2-регуляризацией."
   ]
  },
  {
   "cell_type": "code",
   "execution_count": 319,
   "metadata": {},
   "outputs": [
    {
     "name": "stdout",
     "output_type": "stream",
     "text": [
      "MAE = 0.293 млн руб\n"
     ]
    }
   ],
   "source": [
    "reg_lin = LinearRegression()\n",
    "reg_lin.fit(X_train, y_train)\n",
    "reg_lin_predicted = reg_lin.predict(X_test)\n",
    "reg_lin_MAE = metrics.mean_absolute_error(y_test, reg_lin_predicted)\n",
    "print(\"MAE = {:.3} млн руб\".format(reg_lin_MAE))"
   ]
  },
  {
   "cell_type": "code",
   "execution_count": 324,
   "metadata": {},
   "outputs": [
    {
     "name": "stdout",
     "output_type": "stream",
     "text": [
      "MAE = 0.293 млн руб\n"
     ]
    }
   ],
   "source": [
    "reg_ridge = Ridge(random_state=RANDOM_STATE, alpha=0.1)\n",
    "reg_ridge.fit(X_train, y_train)\n",
    "reg_ridge_predicted = reg_ridge.predict(X_test)\n",
    "reg_ridge_MAE = metrics.mean_absolute_error(y_test, reg_ridge_predicted)\n",
    "print(\"MAE = {:.3} млн руб\".format(reg_ridge_MAE))"
   ]
  },
  {
   "cell_type": "markdown",
   "metadata": {},
   "source": [
    "## 4.4 Итог\n",
    "Подведем итоги применения разных моделей для решения задачи прогнозирования цены квартиры. Были получены следующие результаты"
   ]
  },
  {
   "cell_type": "code",
   "execution_count": 341,
   "metadata": {},
   "outputs": [
    {
     "name": "stdout",
     "output_type": "stream",
     "text": [
      " МАЕ Decision Tree (default)               : 0.309 тыс. руб.\n",
      " МАЕ Decision Tree (custom)                : 0.285 тыс. руб.\n",
      " МАЕ Random Forest (default)               : 0.253 тыс. руб.\n",
      " МАЕ Random Forest (custom)                : 0.243 тыс. руб.\n",
      " МАЕ Linear Regression                     : 0.293 тыс. руб.\n",
      " МАЕ Linear Regression  + L2 Regularization: 0.293 тыс. руб.\n"
     ]
    }
   ],
   "source": [
    "print(\" МАЕ Decision Tree (default)               : {:.3} тыс. руб.\".format(reg_tree_simple_MAE))\n",
    "print(\" МАЕ Decision Tree (custom)                : {:.3} тыс. руб.\".format(reg_tree_custom_MAE))\n",
    "print(\" МАЕ Random Forest (default)               : {:.3} тыс. руб.\".format(reg_rf_MAE))\n",
    "print(\" МАЕ Random Forest (custom)                : {:.3} тыс. руб.\".format(reg_rf_custom_MAE))\n",
    "print(\" МАЕ Linear Regression                     : {:.3} тыс. руб.\".format(reg_lin_MAE))\n",
    "print(\" МАЕ Linear Regression  + L2 Regularization: {:.3} тыс. руб.\".format(reg_ridge_MAE))"
   ]
  },
  {
   "cell_type": "markdown",
   "metadata": {},
   "source": [
    "Как можно заметить, с задачей прогнозирования в данном случае лучше всех справился случайный лес с настройкой параметров."
   ]
  },
  {
   "cell_type": "code",
   "execution_count": null,
   "metadata": {},
   "outputs": [],
   "source": []
  }
 ],
 "metadata": {
  "kernelspec": {
   "display_name": "Python 3",
   "language": "python",
   "name": "python3"
  },
  "language_info": {
   "codemirror_mode": {
    "name": "ipython",
    "version": 3
   },
   "file_extension": ".py",
   "mimetype": "text/x-python",
   "name": "python",
   "nbconvert_exporter": "python",
   "pygments_lexer": "ipython3",
   "version": "3.5.4"
  }
 },
 "nbformat": 4,
 "nbformat_minor": 2
}
